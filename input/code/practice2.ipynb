{
 "cells": [
  {
   "cell_type": "code",
   "execution_count": 1,
   "metadata": {},
   "outputs": [
    {
     "name": "stdout",
     "output_type": "stream",
     "text": [
      "(4800, 1000) (4800,) (4100, 1000)\n",
      "RobustScaler(copy=True, quantile_range=(25.0, 75.0), with_centering=True,\n",
      "       with_scaling=True)\n",
      "        0         1         2         3         4         5         6    \\\n",
      "0 -1.814205 -0.563601  0.357447 -1.917004  1.466177 -1.021554 -2.842974   \n",
      "1  0.216027  0.141576 -0.625123 -0.091898 -0.014292  0.064482  0.392830   \n",
      "2  0.223604  0.223606  0.554346  0.138732 -0.453637 -0.375028  0.251915   \n",
      "3 -0.489692 -0.055772  0.825809 -0.253400  0.857272 -0.631391 -0.345909   \n",
      "4  0.305676  0.108558  0.022180 -0.387695 -0.411647  0.189445  0.603706   \n",
      "\n",
      "        7         8         9      ...          990       991       992  \\\n",
      "0 -0.465324 -0.009342 -0.692873    ...    -1.743932 -1.941933 -1.232187   \n",
      "1  0.210195 -0.078851 -0.421578    ...     0.083989  0.061831  0.387153   \n",
      "2  0.672453  0.890189 -0.495019    ...     0.286262  0.103720 -0.391375   \n",
      "3 -0.679789  1.067118 -0.101326    ...    -1.203255 -0.611784 -1.215225   \n",
      "4  0.003878 -0.728250 -0.219178    ...     0.297741  0.614721  0.124548   \n",
      "\n",
      "        993       994       995       996       997       998       999  \n",
      "0  1.315558 -1.647400  0.406187  2.680279  1.898587 -1.442356 -1.226008  \n",
      "1 -0.063041  0.168496  0.447728 -0.646306 -1.030042 -0.362021  0.048697  \n",
      "2 -0.348499  0.145191 -1.046067 -0.220954  0.344349 -1.044448 -0.409724  \n",
      "3  0.083840 -0.128336 -0.182261 -0.001865 -0.180002  0.430976 -0.536851  \n",
      "4 -0.299386  0.428647 -0.445504 -0.515518 -0.726883 -0.254131  0.869444  \n",
      "\n",
      "[5 rows x 1000 columns]\n",
      "480\n",
      "420\n",
      "(4800, 1001)\n",
      "(4100, 1001)\n"
     ]
    }
   ],
   "source": [
    "#I.input data and drop id\n",
    "import numpy as np\n",
    "import pandas as pd\n",
    "import os\n",
    "trainx = pd.read_csv('../original_data/task2/X_train.csv')\n",
    "trainy = pd.read_csv('../original_data/task2/y_train.csv')\n",
    "testx  = pd.read_csv('../original_data/task2/X_test.csv')\n",
    "\n",
    "xdropid=trainx.drop('id', axis=1)\n",
    "ydropid= trainy.y\n",
    "testx_noid= testx.drop('id', axis=1)\n",
    "print(xdropid.shape,ydropid.shape,testx_noid.shape)\n",
    "\n",
    "#2. standardlize and add new outlier variable\n",
    "from sklearn.preprocessing import StandardScaler\n",
    "from sklearn.preprocessing import RobustScaler\n",
    "\n",
    "scaler = RobustScaler()\n",
    "print(scaler.fit(xdropid))\n",
    "\n",
    "x_scale= pd.DataFrame(scaler.transform(xdropid))\n",
    "print(x_scale.head())\n",
    "testx_scale=pd.DataFrame(scaler.transform(testx_noid))\n",
    "from sklearn.ensemble import IsolationForest\n",
    "import matplotlib.pyplot as plt\n",
    "\n",
    "rng = np.random.RandomState(42)\n",
    "\n",
    "clf = IsolationForest(behaviour='new',random_state=rng, contamination=0.1)\n",
    "clf.fit(x_scale)\n",
    "x_clf = clf.predict(x_scale)\n",
    "testx_clf= clf.predict(testx_scale)\n",
    "print((x_clf<0).sum())\n",
    "print((testx_clf<0).sum())\n",
    "x_clf=pd.DataFrame(x_clf)\n",
    "x_add=pd.DataFrame(np.concatenate((x_scale, x_clf), axis=1))\n",
    "print(x_add.shape)\n",
    "\n",
    "testx_clf=pd.DataFrame(testx_clf)\n",
    "testx_add=pd.DataFrame(np.concatenate((testx_scale, testx_clf), axis=1))\n",
    "print(testx_add.shape)"
   ]
  },
  {
   "cell_type": "code",
   "execution_count": 2,
   "metadata": {},
   "outputs": [],
   "source": [
    "from sklearn.model_selection import KFold\n",
    "from sklearn.metrics import balanced_accuracy_score\n",
    "from sklearn.svm import LinearSVC\n",
    "from sklearn import svm\n",
    "from sklearn.model_selection import cross_val_score"
   ]
  },
  {
   "cell_type": "code",
   "execution_count": 9,
   "metadata": {},
   "outputs": [
    {
     "name": "stdout",
     "output_type": "stream",
     "text": [
      "(4800, 600)\n"
     ]
    }
   ],
   "source": [
    "# 3. select some features, the results are not bad without feature selection\n",
    "from sklearn.feature_selection import SelectKBest\n",
    "from sklearn.feature_selection import f_classif\n",
    "skb= SelectKBest(f_classif, k=600)\n",
    "skb.fit(x_add,ydropid)\n",
    "X_new= skb.transform(x_add)\n",
    "testx_new= skb.transform(testx_add)\n",
    "print(X_new.shape)"
   ]
  },
  {
   "cell_type": "code",
   "execution_count": 10,
   "metadata": {},
   "outputs": [
    {
     "name": "stdout",
     "output_type": "stream",
     "text": [
      "[0.69398148 0.70555556 0.71018519 0.69537037 0.70231481]\n"
     ]
    }
   ],
   "source": [
    "# 4. rbf svc cross validation \n",
    "from sklearn.svm import SVC\n",
    "clf = SVC(C=1, cache_size=200, coef0=0.0,\n",
    "    decision_function_shape='ovr', degree=5, gamma='auto', kernel='rbf',\n",
    "    max_iter=-1, probability=False, random_state=0, shrinking=True,\n",
    "    tol=1e-5, class_weight='balanced')\n",
    "print(cross_val_score(clf, X_new, ydropid,scoring='balanced_accuracy', cv=5))"
   ]
  },
  {
   "cell_type": "code",
   "execution_count": 5,
   "metadata": {},
   "outputs": [
    {
     "name": "stdout",
     "output_type": "stream",
     "text": [
      "[0. 0. 1. ... 1. 1. 1.]\n"
     ]
    }
   ],
   "source": [
    "# 5. predict and get output\n",
    "newy=clf.fit(X_new, ydropid).predict(testx_new)\n",
    "print(newy)\n",
    "\n",
    "\n",
    "output= pd.DataFrame({'id': testx.id, 'y': newy})\n",
    "output.to_csv('../../output6.csv', index = False)"
   ]
  },
  {
   "cell_type": "code",
   "execution_count": null,
   "metadata": {},
   "outputs": [],
   "source": []
  }
 ],
 "metadata": {
  "kernelspec": {
   "display_name": "Python 3",
   "language": "python",
   "name": "python3"
  },
  "language_info": {
   "codemirror_mode": {
    "name": "ipython",
    "version": 3
   },
   "file_extension": ".py",
   "mimetype": "text/x-python",
   "name": "python",
   "nbconvert_exporter": "python",
   "pygments_lexer": "ipython3",
   "version": "3.6.5"
  }
 },
 "nbformat": 4,
 "nbformat_minor": 2
}
